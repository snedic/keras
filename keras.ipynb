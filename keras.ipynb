{
 "cells": [
  {
   "cell_type": "markdown",
   "metadata": {},
   "source": [
    "# Keras\n",
    "https://keras.io/"
   ]
  },
  {
   "cell_type": "markdown",
   "metadata": {},
   "source": [
    "Upgrade Keras and Tensorflow"
   ]
  },
  {
   "cell_type": "code",
   "execution_count": 17,
   "metadata": {},
   "outputs": [
    {
     "name": "stdout",
     "output_type": "stream",
     "text": [
      "Requirement already up-to-date: keras in /Users/bs/anaconda3/lib/python3.5/site-packages\n",
      "Collecting tensorflow\n",
      "  Downloading https://files.pythonhosted.org/packages/74/fe/56818d319bd74daa17bafa1660063b492d867ed2a1f9c9e7d950ccca5503/tensorflow-1.13.1-cp35-cp35m-macosx_10_11_x86_64.whl (71.6MB)\n",
      "\u001b[K    100% |████████████████████████████████| 71.6MB 12kB/s eta 0:00:012\n",
      "\u001b[?25hCollecting h5py (from keras)\n",
      "  Downloading https://files.pythonhosted.org/packages/b5/45/f07e85de00bd72ed0051b5c6df796e42fb104e3128852991a433742c1508/h5py-2.9.0-cp35-cp35m-macosx_10_6_intel.macosx_10_9_intel.macosx_10_9_x86_64.macosx_10_10_intel.macosx_10_10_x86_64.whl (6.2MB)\n",
      "\u001b[K    100% |████████████████████████████████| 6.2MB 136kB/s ta 0:00:011\n",
      "\u001b[?25hCollecting numpy>=1.9.1 (from keras)\n",
      "  Downloading https://files.pythonhosted.org/packages/48/b4/266431019b3b2e0f343a4f98db31add8a5ce2d464e30cdd9deaca29a8751/numpy-1.16.4-cp35-cp35m-macosx_10_6_intel.macosx_10_9_intel.macosx_10_9_x86_64.macosx_10_10_intel.macosx_10_10_x86_64.whl (13.9MB)\n",
      "\u001b[K    100% |████████████████████████████████| 13.9MB 64kB/s eta 0:00:01\n",
      "\u001b[?25hCollecting six>=1.9.0 (from keras)\n",
      "  Downloading https://files.pythonhosted.org/packages/73/fb/00a976f728d0d1fecfe898238ce23f502a721c0ac0ecfedb80e0d88c64e9/six-1.12.0-py2.py3-none-any.whl\n",
      "Collecting pyyaml (from keras)\n",
      "  Downloading https://files.pythonhosted.org/packages/9f/2c/9417b5c774792634834e730932745bc09a7d36754ca00acf1ccd1ac2594d/PyYAML-5.1.tar.gz (274kB)\n",
      "\u001b[K    100% |████████████████████████████████| 276kB 1.2MB/s ta 0:00:01\n",
      "\u001b[?25hRequirement already up-to-date: keras-applications>=1.0.6 in /Users/bs/anaconda3/lib/python3.5/site-packages (from keras)\n",
      "Requirement already up-to-date: keras-preprocessing>=1.0.5 in /Users/bs/anaconda3/lib/python3.5/site-packages (from keras)\n",
      "Collecting scipy>=0.14 (from keras)\n",
      "  Downloading https://files.pythonhosted.org/packages/28/c1/901d7b80bf7793352fd0b2e6a8688d44bf2cba8d8772b8ca25f71f129f77/scipy-1.3.0-cp35-cp35m-macosx_10_6_intel.macosx_10_9_intel.macosx_10_9_x86_64.macosx_10_10_intel.macosx_10_10_x86_64.whl (27.6MB)\n",
      "\u001b[K    100% |████████████████████████████████| 27.6MB 32kB/s eta 0:00:01\n",
      "\u001b[?25hCollecting gast>=0.2.0 (from tensorflow)\n",
      "  Downloading https://files.pythonhosted.org/packages/4e/35/11749bf99b2d4e3cceb4d55ca22590b0d7c2c62b9de38ac4a4a7f4687421/gast-0.2.2.tar.gz\n",
      "Collecting tensorflow-estimator<1.14.0rc0,>=1.13.0 (from tensorflow)\n",
      "  Downloading https://files.pythonhosted.org/packages/bb/48/13f49fc3fa0fdf916aa1419013bb8f2ad09674c275b4046d5ee669a46873/tensorflow_estimator-1.13.0-py2.py3-none-any.whl (367kB)\n",
      "\u001b[K    100% |████████████████████████████████| 368kB 882kB/s ta 0:00:01\n",
      "\u001b[?25hCollecting tensorboard<1.14.0,>=1.13.0 (from tensorflow)\n",
      "  Downloading https://files.pythonhosted.org/packages/0f/39/bdd75b08a6fba41f098b6cb091b9e8c7a80e1b4d679a581a0ccd17b10373/tensorboard-1.13.1-py3-none-any.whl (3.2MB)\n",
      "\u001b[K    100% |████████████████████████████████| 3.2MB 282kB/s eta 0:00:01\n",
      "\u001b[?25hCollecting grpcio>=1.8.6 (from tensorflow)\n",
      "  Downloading https://files.pythonhosted.org/packages/b9/fb/ed340689785c0606ff00e7f9c36ff0d9f27c5b2baf6df73bd68288e410bf/grpcio-1.21.1-cp35-cp35m-macosx_10_7_intel.whl (3.8MB)\n",
      "\u001b[K    100% |████████████████████████████████| 3.8MB 215kB/s ta 0:00:011\n",
      "\u001b[?25hCollecting absl-py>=0.1.6 (from tensorflow)\n",
      "  Downloading https://files.pythonhosted.org/packages/da/3f/9b0355080b81b15ba6a9ffcf1f5ea39e307a2778b2f2dc8694724e8abd5b/absl-py-0.7.1.tar.gz (99kB)\n",
      "\u001b[K    100% |████████████████████████████████| 102kB 2.0MB/s a 0:00:01\n",
      "\u001b[?25hCollecting astor>=0.6.0 (from tensorflow)\n",
      "  Downloading https://files.pythonhosted.org/packages/d1/4f/950dfae467b384fc96bc6469de25d832534f6b4441033c39f914efd13418/astor-0.8.0-py2.py3-none-any.whl\n",
      "Collecting protobuf>=3.6.1 (from tensorflow)\n",
      "  Downloading https://files.pythonhosted.org/packages/0b/ce/ed6b4ddcce376c4a9f65c39311ba1d3e1e4f61007c716b76569a951c85b2/protobuf-3.8.0-cp35-cp35m-macosx_10_9_intel.macosx_10_9_x86_64.macosx_10_10_intel.macosx_10_10_x86_64.whl (1.4MB)\n",
      "\u001b[K    100% |████████████████████████████████| 1.4MB 318kB/s ta 0:00:011\n",
      "\u001b[?25hCollecting wheel>=0.26 (from tensorflow)\n",
      "  Downloading https://files.pythonhosted.org/packages/bb/10/44230dd6bf3563b8f227dbf344c908d412ad2ff48066476672f3a72e174e/wheel-0.33.4-py2.py3-none-any.whl\n",
      "Collecting termcolor>=1.1.0 (from tensorflow)\n",
      "  Downloading https://files.pythonhosted.org/packages/8a/48/a76be51647d0eb9f10e2a4511bf3ffb8cc1e6b14e9e4fab46173aa79f981/termcolor-1.1.0.tar.gz\n",
      "Collecting mock>=2.0.0 (from tensorflow-estimator<1.14.0rc0,>=1.13.0->tensorflow)\n",
      "  Downloading https://files.pythonhosted.org/packages/05/d2/f94e68be6b17f46d2c353564da56e6fb89ef09faeeff3313a046cb810ca9/mock-3.0.5-py2.py3-none-any.whl\n",
      "Collecting werkzeug>=0.11.15 (from tensorboard<1.14.0,>=1.13.0->tensorflow)\n",
      "  Downloading https://files.pythonhosted.org/packages/9f/57/92a497e38161ce40606c27a86759c6b92dd34fcdb33f64171ec559257c02/Werkzeug-0.15.4-py2.py3-none-any.whl (327kB)\n",
      "\u001b[K    100% |████████████████████████████████| 327kB 1.9MB/s ta 0:00:01\n",
      "\u001b[?25hCollecting markdown>=2.6.8 (from tensorboard<1.14.0,>=1.13.0->tensorflow)\n",
      "  Downloading https://files.pythonhosted.org/packages/c0/4e/fd492e91abdc2d2fcb70ef453064d980688762079397f779758e055f6575/Markdown-3.1.1-py2.py3-none-any.whl (87kB)\n",
      "\u001b[K    100% |████████████████████████████████| 92kB 2.1MB/s ta 0:00:011\n",
      "\u001b[?25hCollecting setuptools (from protobuf>=3.6.1->tensorflow)\n",
      "  Downloading https://files.pythonhosted.org/packages/ec/51/f45cea425fd5cb0b0380f5b0f048ebc1da5b417e48d304838c02d6288a1e/setuptools-41.0.1-py2.py3-none-any.whl (575kB)\n",
      "\u001b[K    100% |████████████████████████████████| 583kB 523kB/s ta 0:00:011\n",
      "\u001b[?25hBuilding wheels for collected packages: pyyaml, gast, absl-py, termcolor\n",
      "  Running setup.py bdist_wheel for pyyaml ... \u001b[?25ldone\n",
      "\u001b[?25h  Stored in directory: /Users/bs/Library/Caches/pip/wheels/ad/56/bc/1522f864feb2a358ea6f1a92b4798d69ac783a28e80567a18b\n",
      "  Running setup.py bdist_wheel for gast ... \u001b[?25ldone\n",
      "\u001b[?25h  Stored in directory: /Users/bs/Library/Caches/pip/wheels/5c/2e/7e/a1d4d4fcebe6c381f378ce7743a3ced3699feb89bcfbdadadd\n",
      "  Running setup.py bdist_wheel for absl-py ... \u001b[?25ldone\n",
      "\u001b[?25h  Stored in directory: /Users/bs/Library/Caches/pip/wheels/ee/98/38/46cbcc5a93cfea5492d19c38562691ddb23b940176c14f7b48\n",
      "  Running setup.py bdist_wheel for termcolor ... \u001b[?25ldone\n",
      "\u001b[?25h  Stored in directory: /Users/bs/Library/Caches/pip/wheels/7c/06/54/bc84598ba1daf8f970247f550b175aaaee85f68b4b0c5ab2c6\n",
      "Successfully built pyyaml gast absl-py termcolor\n",
      "Installing collected packages: gast, six, absl-py, mock, numpy, tensorflow-estimator, grpcio, werkzeug, wheel, setuptools, protobuf, markdown, tensorboard, astor, termcolor, tensorflow, h5py, pyyaml, scipy\n",
      "  Found existing installation: six 1.10.0\n",
      "\u001b[31m    DEPRECATION: Uninstalling a distutils installed project (six) has been deprecated and will be removed in a future version. This is due to the fact that uninstalling a distutils project will only partially uninstall the project.\u001b[0m\n",
      "    Uninstalling six-1.10.0:\n",
      "      Successfully uninstalled six-1.10.0\n",
      "  Found existing installation: numpy 1.11.3\n",
      "    Uninstalling numpy-1.11.3:\n",
      "      Successfully uninstalled numpy-1.11.3\n",
      "  Found existing installation: Werkzeug 0.12.1\n",
      "    Uninstalling Werkzeug-0.12.1:\n",
      "      Successfully uninstalled Werkzeug-0.12.1\n",
      "  Found existing installation: wheel 0.29.0\n",
      "    Uninstalling wheel-0.29.0:\n",
      "      Successfully uninstalled wheel-0.29.0\n",
      "  Found existing installation: setuptools 27.2.0\n",
      "    Uninstalling setuptools-27.2.0:\n",
      "      Successfully uninstalled setuptools-27.2.0\n",
      "  Found existing installation: protobuf 3.1.0.post1\n",
      "    Uninstalling protobuf-3.1.0.post1:\n",
      "      Successfully uninstalled protobuf-3.1.0.post1\n",
      "  Found existing installation: tensorflow 0.12.1\n",
      "    Uninstalling tensorflow-0.12.1:\n",
      "      Successfully uninstalled tensorflow-0.12.1\n",
      "  Found existing installation: h5py 2.7.0\n",
      "    Uninstalling h5py-2.7.0:\n",
      "      Successfully uninstalled h5py-2.7.0\n",
      "  Found existing installation: PyYAML 3.12\n",
      "\u001b[31m    DEPRECATION: Uninstalling a distutils installed project (pyyaml) has been deprecated and will be removed in a future version. This is due to the fact that uninstalling a distutils project will only partially uninstall the project.\u001b[0m\n",
      "    Uninstalling PyYAML-3.12:\n",
      "      Successfully uninstalled PyYAML-3.12\n"
     ]
    },
    {
     "name": "stdout",
     "output_type": "stream",
     "text": [
      "  Found existing installation: scipy 0.19.0\n",
      "    Uninstalling scipy-0.19.0:\n",
      "      Successfully uninstalled scipy-0.19.0\n",
      "Successfully installed absl-py-0.7.1 astor-0.8.0 gast-0.2.2 grpcio-1.21.1 h5py-2.9.0 markdown-3.1.1 mock-3.0.5 numpy-1.16.4 protobuf-3.8.0 pyyaml-5.1 scipy-1.3.0 setuptools-41.0.1 six-1.12.0 tensorboard-1.13.1 tensorflow-1.13.1 tensorflow-estimator-1.13.0 termcolor-1.1.0 werkzeug-0.15.4 wheel-0.33.4\n",
      "Traceback (most recent call last):\n",
      "  File \"/Users/bs/anaconda3/bin/pip\", line 6, in <module>\n",
      "    sys.exit(pip.main())\n",
      "  File \"/Users/bs/anaconda3/lib/python3.5/site-packages/pip/__init__.py\", line 249, in main\n",
      "    return command.main(cmd_args)\n",
      "  File \"/Users/bs/anaconda3/lib/python3.5/site-packages/pip/basecommand.py\", line 252, in main\n",
      "    pip_version_check(session)\n",
      "  File \"/Users/bs/anaconda3/lib/python3.5/site-packages/pip/utils/outdated.py\", line 102, in pip_version_check\n",
      "    installed_version = get_installed_version(\"pip\")\n",
      "  File \"/Users/bs/anaconda3/lib/python3.5/site-packages/pip/utils/__init__.py\", line 838, in get_installed_version\n",
      "    working_set = pkg_resources.WorkingSet()\n",
      "  File \"/Users/bs/anaconda3/lib/python3.5/site-packages/pip/_vendor/pkg_resources/__init__.py\", line 644, in __init__\n",
      "    self.add_entry(entry)\n",
      "  File \"/Users/bs/anaconda3/lib/python3.5/site-packages/pip/_vendor/pkg_resources/__init__.py\", line 700, in add_entry\n",
      "    for dist in find_distributions(entry, True):\n",
      "  File \"/Users/bs/anaconda3/lib/python3.5/site-packages/pip/_vendor/pkg_resources/__init__.py\", line 1949, in find_eggs_in_zip\n",
      "    if metadata.has_metadata('PKG-INFO'):\n",
      "  File \"/Users/bs/anaconda3/lib/python3.5/site-packages/pip/_vendor/pkg_resources/__init__.py\", line 1463, in has_metadata\n",
      "    return self.egg_info and self._has(self._fn(self.egg_info, name))\n",
      "  File \"/Users/bs/anaconda3/lib/python3.5/site-packages/pip/_vendor/pkg_resources/__init__.py\", line 1823, in _has\n",
      "    return zip_path in self.zipinfo or zip_path in self._index()\n",
      "  File \"/Users/bs/anaconda3/lib/python3.5/site-packages/pip/_vendor/pkg_resources/__init__.py\", line 1703, in zipinfo\n",
      "    return self._zip_manifests.load(self.loader.archive)\n",
      "  File \"/Users/bs/anaconda3/lib/python3.5/site-packages/pip/_vendor/pkg_resources/__init__.py\", line 1643, in load\n",
      "    mtime = os.stat(path).st_mtime\n",
      "FileNotFoundError: [Errno 2] No such file or directory: '/Users/bs/anaconda3/lib/python3.5/site-packages/setuptools-27.2.0-py3.5.egg'\n"
     ]
    }
   ],
   "source": [
    "!pip install -U keras tensorflow"
   ]
  },
  {
   "cell_type": "markdown",
   "metadata": {},
   "source": [
    "Check the versions of both Keras and Tensorflow"
   ]
  },
  {
   "cell_type": "code",
   "execution_count": 1,
   "metadata": {},
   "outputs": [
    {
     "name": "stdout",
     "output_type": "stream",
     "text": [
      "1.13.1\n",
      "2.2.4\n"
     ]
    }
   ],
   "source": [
    "import tensorflow as tf\n",
    "import keras\n",
    "\n",
    "print(tf.__version__)\n",
    "print(keras.__version__)"
   ]
  },
  {
   "cell_type": "markdown",
   "metadata": {},
   "source": [
    "## Build a Simple NN \n",
    "Build a NN consisting of a linear stack of layers using the __Sequential__ model to get somewhat familiar with Keras"
   ]
  },
  {
   "cell_type": "code",
   "execution_count": 2,
   "metadata": {
    "collapsed": true
   },
   "outputs": [],
   "source": [
    "from keras.models import Sequential\n",
    "\n",
    "model = Sequential()"
   ]
  },
  {
   "cell_type": "markdown",
   "metadata": {},
   "source": [
    "Add a simple input and output layer\n",
    "* input can have any activation function such as a Rectified Linear Unit (relu)\n",
    "* output layer needs to have an activation function of Softmax - this will output an array of values that all add up to 1, representing the likelihood of each index (0-9) being the number seen in the image\n",
    "\n",
    "Note, to see Keras' activation functions you can type \"from keras.activations import \" then hit tab to see a list of functions.  I do this in top of the following block as an example.  You can in turn call that newly imported function or simply call the name (without having previously imported it)."
   ]
  },
  {
   "cell_type": "code",
   "execution_count": 12,
   "metadata": {
    "collapsed": true
   },
   "outputs": [],
   "source": [
    "from keras.layers import Dense\n",
    "\n",
    "model.add(Dense(units=64, activation='relu', input_dim=100))\n",
    "model.add(Dense(units=10, activation='softmax'))"
   ]
  },
  {
   "cell_type": "markdown",
   "metadata": {},
   "source": [
    "If you import any particular function, you can see what the function description is by calling it and hitting \"tab+tab\""
   ]
  },
  {
   "cell_type": "code",
   "execution_count": 6,
   "metadata": {
    "collapsed": true
   },
   "outputs": [],
   "source": [
    "from keras.activations import softmax\n",
    "\n",
    "print(softmax.__doc__)"
   ]
  },
  {
   "cell_type": "markdown",
   "metadata": {},
   "source": [
    "Compile the model using any desired loss fucntion, optimizer, and metrics"
   ]
  },
  {
   "cell_type": "code",
   "execution_count": 13,
   "metadata": {},
   "outputs": [],
   "source": [
    "model.compile(loss='categorical_crossentropy', optimizer='sgd', metrics=['accuracy'])"
   ]
  },
  {
   "cell_type": "markdown",
   "metadata": {},
   "source": [
    "Once again you can check the keras loss functions, and optimizers similar to the activations\n",
    "\n",
    "As for metrics, typically you will use `metrics=['accuracy']`.\n",
    "        To specify different metrics for different outputs of a\n",
    "        multi-output model, you could also pass a dictionary,\n",
    "        such as `metrics={'output_a': 'accuracy'}`."
   ]
  },
  {
   "cell_type": "code",
   "execution_count": 14,
   "metadata": {},
   "outputs": [
    {
     "name": "stdout",
     "output_type": "stream",
     "text": [
      "None\n",
      "\n",
      "Stochastic gradient descent optimizer.\n",
      "\n",
      "    Includes support for momentum,\n",
      "    learning rate decay, and Nesterov momentum.\n",
      "\n",
      "    # Arguments\n",
      "        lr: float >= 0. Learning rate.\n",
      "        momentum: float >= 0. Parameter that accelerates SGD\n",
      "            in the relevant direction and dampens oscillations.\n",
      "        decay: float >= 0. Learning rate decay over each update.\n",
      "        nesterov: boolean. Whether to apply Nesterov momentum.\n",
      "    \n"
     ]
    }
   ],
   "source": [
    "from keras.losses import categorical_crossentropy\n",
    "from keras.optimizers import sgd\n",
    "\n",
    "print(categorical_crossentropy.__doc__)\n",
    "print()\n",
    "print(sgd.__doc__)"
   ]
  },
  {
   "cell_type": "markdown",
   "metadata": {},
   "source": [
    "What are the current layers of the network?"
   ]
  },
  {
   "cell_type": "code",
   "execution_count": 15,
   "metadata": {},
   "outputs": [
    {
     "data": {
      "text/plain": [
       "[<keras.layers.core.Dense at 0x135afc4e0>,\n",
       " <keras.layers.core.Dense at 0x135afc160>]"
      ]
     },
     "execution_count": 15,
     "metadata": {},
     "output_type": "execute_result"
    }
   ],
   "source": [
    "model.layers"
   ]
  },
  {
   "cell_type": "markdown",
   "metadata": {},
   "source": [
    "Alternative method of compiling your model, where you can specify optimizer parameters, etc."
   ]
  },
  {
   "cell_type": "code",
   "execution_count": 16,
   "metadata": {
    "collapsed": true
   },
   "outputs": [],
   "source": [
    "model.compile(loss=keras.losses.categorical_crossentropy, \n",
    "              optimizer=keras.optimizers.SGD(lr=0.01, momentum=0.9, nesterov=True))"
   ]
  },
  {
   "cell_type": "markdown",
   "metadata": {},
   "source": [
    "## MNIST"
   ]
  },
  {
   "cell_type": "markdown",
   "metadata": {},
   "source": [
    "Let's get some data"
   ]
  },
  {
   "cell_type": "code",
   "execution_count": 46,
   "metadata": {
    "collapsed": true
   },
   "outputs": [],
   "source": [
    "from keras.datasets import mnist\n",
    "\n",
    "# get the data\n",
    "(x_train, y_train), (x_test, y_test) = mnist.load_data()"
   ]
  },
  {
   "cell_type": "markdown",
   "metadata": {},
   "source": [
    "What does the shape of the data look like?"
   ]
  },
  {
   "cell_type": "code",
   "execution_count": 47,
   "metadata": {},
   "outputs": [
    {
     "data": {
      "text/plain": [
       "(60000, 28, 28)"
      ]
     },
     "execution_count": 47,
     "metadata": {},
     "output_type": "execute_result"
    }
   ],
   "source": [
    "x_train.shape"
   ]
  },
  {
   "cell_type": "markdown",
   "metadata": {},
   "source": [
    "What does one of the images look like?"
   ]
  },
  {
   "cell_type": "code",
   "execution_count": 133,
   "metadata": {},
   "outputs": [
    {
     "data": {
      "text/plain": [
       "array([0., 0., 1., 0., 0., 0., 0., 0., 0., 0.], dtype=float32)"
      ]
     },
     "execution_count": 133,
     "metadata": {},
     "output_type": "execute_result"
    },
    {
     "data": {
      "image/png": "[encoded data removed]",
      "text/plain": [
       "<matplotlib.figure.Figure at 0x13f6376d8>"
      ]
     },
     "metadata": {},
     "output_type": "display_data"
    }
   ],
   "source": [
    "%matplotlib inline\n",
    "import matplotlib.pyplot as plt\n",
    "\n",
    "n=5\n",
    "\n",
    "img_shape = x_train.shape[1:-1]\n",
    "plt.imshow(x_train[n].reshape(img_shape))\n",
    "y_train[n]\n",
    "\n"
   ]
  },
  {
   "cell_type": "markdown",
   "metadata": {},
   "source": [
    "What does the distribution of the data look like?"
   ]
  },
  {
   "cell_type": "code",
   "execution_count": 48,
   "metadata": {
    "scrolled": false
   },
   "outputs": [
    {
     "data": {
      "text/plain": [
       "<matplotlib.axes._subplots.AxesSubplot at 0x19edf8860>"
      ]
     },
     "execution_count": 48,
     "metadata": {},
     "output_type": "execute_result"
    },
    {
     "data": {
      "image/png": "[encoded data removed]",
      "text/plain": [
       "<matplotlib.figure.Figure at 0x19f541f60>"
      ]
     },
     "metadata": {},
     "output_type": "display_data"
    }
   ],
   "source": [
    "%matplotlib inline\n",
    "import pandas as pd\n",
    "import matplotlib.pyplot as plt\n",
    "\n",
    "fig, ax = plt.subplots(nrows=1, ncols=2, sharey=True, figsize=(16,8))\n",
    "\n",
    "# get the labels\n",
    "dfTrain = pd.DataFrame(y_train, columns=['LABEL'])\n",
    "dfTest = pd.DataFrame(y_test, columns=['LABEL'])\n",
    "\n",
    "# plot the values\n",
    "dfTrain.LABEL.value_counts().sort_index().plot.bar(ax=ax[0])\n",
    "dfTest.LABEL.value_counts().sort_index().plot.bar( ax=ax[1])"
   ]
  },
  {
   "cell_type": "markdown",
   "metadata": {},
   "source": [
    "As you can see there is a lot more data used in training then in testing, but at initial glance the raios across the values appear to be similar enough"
   ]
  },
  {
   "cell_type": "markdown",
   "metadata": {},
   "source": [
    "### Build a Classifier Model"
   ]
  },
  {
   "cell_type": "markdown",
   "metadata": {},
   "source": [
    "Initial approach, simple no hidden layers"
   ]
  },
  {
   "cell_type": "code",
   "execution_count": 51,
   "metadata": {
    "collapsed": true
   },
   "outputs": [],
   "source": [
    "from keras.datasets import mnist\n",
    "from keras.utils import to_categorical\n",
    "from keras.models import K\n",
    "\n",
    "# get the data\n",
    "(x_train, y_train), (x_test, y_test) = mnist.load_data()\n",
    "\n",
    "# reshape the data to what Keras expects\n",
    "x_train = x_train.reshape((x_train.shape[0], x_train.shape[1]*x_train.shape[2]))\n",
    "x_test = x_test.reshape((x_test.shape[0], x_test.shape[1]*x_test.shape[2]))\n",
    "    \n",
    "# one-hot enocde the labels\n",
    "y_train = to_categorical(y_train)\n",
    "y_test = to_categorical(y_test)"
   ]
  },
  {
   "cell_type": "markdown",
   "metadata": {},
   "source": [
    "What does the shape of the data look like now?"
   ]
  },
  {
   "cell_type": "code",
   "execution_count": 52,
   "metadata": {},
   "outputs": [
    {
     "data": {
      "text/plain": [
       "(60000, 784)"
      ]
     },
     "execution_count": 52,
     "metadata": {},
     "output_type": "execute_result"
    }
   ],
   "source": [
    "x_train.shape"
   ]
  },
  {
   "cell_type": "markdown",
   "metadata": {},
   "source": [
    "Grab the NN input (per record) shape"
   ]
  },
  {
   "cell_type": "code",
   "execution_count": 54,
   "metadata": {},
   "outputs": [
    {
     "data": {
      "text/plain": [
       "(784,)"
      ]
     },
     "execution_count": 54,
     "metadata": {},
     "output_type": "execute_result"
    }
   ],
   "source": [
    "input_shape = x_train.shape[1:]\n",
    "input_shape"
   ]
  },
  {
   "cell_type": "markdown",
   "metadata": {},
   "source": [
    "If you want to have flexibility an alternative way of defining the architecture of your model is to chain the layers together in a manner where each subsequent layer references the previous layer.\n",
    "\n",
    "i.e. \n",
    "```\n",
    "Dense(units=..., activation=....)(inputs)\n",
    "```\n",
    "I do this in this section.  If you prefer to use the pre-styled Sequential model, then define model similarly to the previous section above, and wrapp each of the layers in model.add(....)\n",
    "\n",
    "i.e. \n",
    "```\n",
    "model = Sequential()\n",
    "model.add(Dense(..., input_dim=...))\n",
    "```"
   ]
  },
  {
   "cell_type": "code",
   "execution_count": 55,
   "metadata": {
    "collapsed": true
   },
   "outputs": [],
   "source": [
    "from keras.models import Sequential, Model\n",
    "from keras.layers import Input, Dense\n",
    "from keras.backend import clear_session\n",
    "\n",
    "clear_session()\n",
    "\n",
    "inputs = Input(shape=input_shape)\n",
    "x = Dense(units=32, activation=keras.activations.relu)(inputs)\n",
    "x = Dense(units=10, activation='softmax')(x)\n",
    "\n",
    "model = Model(inputs, x)"
   ]
  },
  {
   "cell_type": "markdown",
   "metadata": {},
   "source": [
    "Compile just as in the previous section"
   ]
  },
  {
   "cell_type": "code",
   "execution_count": 56,
   "metadata": {
    "collapsed": true
   },
   "outputs": [],
   "source": [
    "model.compile(optimizer='sgd', loss='categorical_crossentropy', metrics=['accuracy'])"
   ]
  },
  {
   "cell_type": "markdown",
   "metadata": {},
   "source": [
    "Fit or train your model\n",
    "* tweek these parameters to see if theres any improvement.\n",
    "* Add layers and try again"
   ]
  },
  {
   "cell_type": "code",
   "execution_count": 95,
   "metadata": {
    "scrolled": true
   },
   "outputs": [
    {
     "name": "stdout",
     "output_type": "stream",
     "text": [
      "WARNING:tensorflow:From /Users/bs/anaconda3/lib/python3.5/site-packages/tensorflow/python/ops/math_ops.py:3066: to_int32 (from tensorflow.python.ops.math_ops) is deprecated and will be removed in a future version.\n",
      "Instructions for updating:\n",
      "Use tf.cast instead.\n",
      "Epoch 1/5\n",
      "60000/60000 [==============================] - 2s 30us/step - loss: 14.4708 - acc: 0.1022\n",
      "Epoch 2/5\n",
      "60000/60000 [==============================] - 2s 28us/step - loss: 14.4711 - acc: 0.1022\n",
      "Epoch 3/5\n",
      "60000/60000 [==============================] - 2s 30us/step - loss: 14.4711 - acc: 0.1022\n",
      "Epoch 4/5\n",
      "60000/60000 [==============================] - 2s 29us/step - loss: 14.4711 - acc: 0.1022\n",
      "Epoch 5/5\n",
      "60000/60000 [==============================] - 2s 30us/step - loss: 14.4711 - acc: 0.1022\n"
     ]
    },
    {
     "data": {
      "text/plain": [
       "<keras.callbacks.History at 0x13fa8d160>"
      ]
     },
     "execution_count": 95,
     "metadata": {},
     "output_type": "execute_result"
    }
   ],
   "source": [
    "model.fit(x_train, y_train, batch_size=32, epochs=5)"
   ]
  },
  {
   "cell_type": "markdown",
   "metadata": {},
   "source": [
    "Try building a ConvNet version and see how it compares to the Dense network\n",
    "* which is faster to train and test?\n",
    "* which is more accurate?\n",
    "* etc...."
   ]
  },
  {
   "cell_type": "markdown",
   "metadata": {},
   "source": [
    "preprocess the data"
   ]
  },
  {
   "cell_type": "code",
   "execution_count": 139,
   "metadata": {
    "collapsed": true
   },
   "outputs": [],
   "source": [
    "from keras.datasets import mnist\n",
    "from keras.utils import to_categorical\n",
    "from keras.models import K\n",
    "\n",
    "# get the data\n",
    "(x_train, y_train), (x_test, y_test) = mnist.load_data()\n",
    "\n",
    "# reshape the data to what Keras expects\n",
    "if K.image_data_format() == 'channels_first':\n",
    "    # (imgCount, channelCount, imgheight, imgwidth)\n",
    "    x_train = x_train.reshape((x_train.shape[0], 1, x_train.shape[1], x_train.shape[2]))\n",
    "    x_test = x_test.reshape((x_test.shape[0], 1, x_test.shape[1], x_test.shape[2]))\n",
    "else:\n",
    "    # (imgCount, imgheight, imgwidth, channelCount)\n",
    "    x_train = x_train.reshape((x_train.shape[0], x_train.shape[1], x_train.shape[2], 1))\n",
    "    x_test = x_test.reshape((x_test.shape[0], x_test.shape[1], x_test.shape[2], 1))\n",
    "    \n",
    "# one-hot enocde the labels\n",
    "y_train = to_categorical(y_train, 10)\n",
    "y_test = to_categorical(y_test, 10)"
   ]
  },
  {
   "cell_type": "markdown",
   "metadata": {},
   "source": [
    "What is the shape of the image now?"
   ]
  },
  {
   "cell_type": "code",
   "execution_count": 140,
   "metadata": {
    "scrolled": true
   },
   "outputs": [
    {
     "data": {
      "text/plain": [
       "(60000, 28, 28, 1)"
      ]
     },
     "execution_count": 140,
     "metadata": {},
     "output_type": "execute_result"
    }
   ],
   "source": [
    "x_train.shape"
   ]
  },
  {
   "cell_type": "markdown",
   "metadata": {},
   "source": [
    "What is the shape of the labels"
   ]
  },
  {
   "cell_type": "code",
   "execution_count": 168,
   "metadata": {},
   "outputs": [
    {
     "data": {
      "text/plain": [
       "(60000, 10)"
      ]
     },
     "execution_count": 168,
     "metadata": {},
     "output_type": "execute_result"
    }
   ],
   "source": [
    "y_train.shape"
   ]
  },
  {
   "cell_type": "markdown",
   "metadata": {},
   "source": [
    "What is the model input shape?"
   ]
  },
  {
   "cell_type": "code",
   "execution_count": 141,
   "metadata": {},
   "outputs": [
    {
     "data": {
      "text/plain": [
       "(28, 28, 1)"
      ]
     },
     "execution_count": 141,
     "metadata": {},
     "output_type": "execute_result"
    }
   ],
   "source": [
    "input_shape = x_train.shape[1:]\n",
    "input_shape"
   ]
  },
  {
   "cell_type": "markdown",
   "metadata": {},
   "source": [
    "Build the model"
   ]
  },
  {
   "cell_type": "code",
   "execution_count": 180,
   "metadata": {
    "collapsed": true
   },
   "outputs": [],
   "source": [
    "from keras.models import Model\n",
    "from keras.layers import Input,Dense,Conv2D,Flatten\n",
    "from keras.backend import clear_session\n",
    "\n",
    "clear_session()\n",
    "\n",
    "inputs = Input(input_shape)\n",
    "x = Conv2D(32, kernel_size=(3,3), strides=(1,1), activation='sigmoid')(inputs)\n",
    "x = Flatten()(x)\n",
    "x = Dense(10, activation='softmax')(x)\n",
    "\n",
    "model = Model(inputs, x)"
   ]
  },
  {
   "cell_type": "markdown",
   "metadata": {},
   "source": [
    "What is the shape of the output?\n",
    "* None at index 0 of the shape tuple is due to it not knowing how many output rows it will have until the model receives the data"
   ]
  },
  {
   "cell_type": "code",
   "execution_count": 181,
   "metadata": {},
   "outputs": [
    {
     "data": {
      "text/plain": [
       "(None, 10)"
      ]
     },
     "execution_count": 181,
     "metadata": {},
     "output_type": "execute_result"
    }
   ],
   "source": [
    "model.output_shape"
   ]
  },
  {
   "cell_type": "markdown",
   "metadata": {},
   "source": [
    "Compile, same as before"
   ]
  },
  {
   "cell_type": "code",
   "execution_count": 189,
   "metadata": {
    "collapsed": true
   },
   "outputs": [],
   "source": [
    "model.compile(optimizer='sgd', loss='categorical_crossentropy', metrics=['accuracy'])"
   ]
  },
  {
   "cell_type": "markdown",
   "metadata": {},
   "source": [
    "Fit/Train the model"
   ]
  },
  {
   "cell_type": "code",
   "execution_count": 190,
   "metadata": {},
   "outputs": [
    {
     "name": "stdout",
     "output_type": "stream",
     "text": [
      "Epoch 1/5\n",
      "60000/60000 [==============================] - 10s 167us/step - loss: 4.7379 - acc: 0.7004\n",
      "Epoch 2/5\n",
      "60000/60000 [==============================] - 10s 164us/step - loss: 4.7356 - acc: 0.7010\n",
      "Epoch 3/5\n",
      "60000/60000 [==============================] - 10s 166us/step - loss: 4.7330 - acc: 0.7019\n",
      "Epoch 4/5\n",
      "60000/60000 [==============================] - 10s 170us/step - loss: 4.7311 - acc: 0.7025\n",
      "Epoch 5/5\n",
      "60000/60000 [==============================] - 10s 173us/step - loss: 4.7293 - acc: 0.7033\n"
     ]
    },
    {
     "data": {
      "text/plain": [
       "<keras.callbacks.History at 0x13902f278>"
      ]
     },
     "execution_count": 190,
     "metadata": {},
     "output_type": "execute_result"
    }
   ],
   "source": [
    "hist = model.fit(x_train, y_train, batch_size=32, epochs=5)"
   ]
  },
  {
   "cell_type": "markdown",
   "metadata": {},
   "source": [
    "Take a look at how the training went "
   ]
  },
  {
   "cell_type": "code",
   "execution_count": 192,
   "metadata": {},
   "outputs": [
    {
     "data": {
      "text/html": [
       "<div>\n",
       "<style>\n",
       "    .dataframe thead tr:only-child th {\n",
       "        text-align: right;\n",
       "    }\n",
       "\n",
       "    .dataframe thead th {\n",
       "        text-align: left;\n",
       "    }\n",
       "\n",
       "    .dataframe tbody tr th {\n",
       "        vertical-align: top;\n",
       "    }\n",
       "</style>\n",
       "<table border=\"1\" class=\"dataframe\">\n",
       "  <thead>\n",
       "    <tr style=\"text-align: right;\">\n",
       "      <th></th>\n",
       "      <th>acc</th>\n",
       "      <th>loss</th>\n",
       "    </tr>\n",
       "  </thead>\n",
       "  <tbody>\n",
       "    <tr>\n",
       "      <th>0</th>\n",
       "      <td>0.700367</td>\n",
       "      <td>4.737924</td>\n",
       "    </tr>\n",
       "    <tr>\n",
       "      <th>1</th>\n",
       "      <td>0.701017</td>\n",
       "      <td>4.735626</td>\n",
       "    </tr>\n",
       "    <tr>\n",
       "      <th>2</th>\n",
       "      <td>0.701867</td>\n",
       "      <td>4.732973</td>\n",
       "    </tr>\n",
       "    <tr>\n",
       "      <th>3</th>\n",
       "      <td>0.702533</td>\n",
       "      <td>4.731084</td>\n",
       "    </tr>\n",
       "    <tr>\n",
       "      <th>4</th>\n",
       "      <td>0.703267</td>\n",
       "      <td>4.729329</td>\n",
       "    </tr>\n",
       "  </tbody>\n",
       "</table>\n",
       "</div>"
      ],
      "text/plain": [
       "        acc      loss\n",
       "0  0.700367  4.737924\n",
       "1  0.701017  4.735626\n",
       "2  0.701867  4.732973\n",
       "3  0.702533  4.731084\n",
       "4  0.703267  4.729329"
      ]
     },
     "execution_count": 192,
     "metadata": {},
     "output_type": "execute_result"
    },
    {
     "data": {
      "image/png": "[encoded data removed]",
      "text/plain": [
       "<matplotlib.figure.Figure at 0x137fddcc0>"
      ]
     },
     "metadata": {},
     "output_type": "display_data"
    }
   ],
   "source": [
    "import pandas as pd\n",
    "\n",
    "dfHist = pd.DataFrame(hist.history)\n",
    "dfHist.plot.line()\n",
    "dfHist"
   ]
  },
  {
   "cell_type": "markdown",
   "metadata": {},
   "source": [
    "Deeper NN - Add another layer"
   ]
  },
  {
   "cell_type": "code",
   "execution_count": 169,
   "metadata": {
    "collapsed": true
   },
   "outputs": [],
   "source": [
    "from keras.models import Model\n",
    "from keras.layers import Input,Dense,Conv2D,Flatten\n",
    "from keras.backend import clear_session\n",
    "\n",
    "clear_session()\n",
    "\n",
    "inputs = Input(input_shape)\n",
    "x = Conv2D(32, kernel_size=(3,3), strides=(1,1), activation='sigmoid')(inputs)\n",
    "x = Conv2D(16, kernel_size=(3,3), strides=(1,1), activation='sigmoid')(x)\n",
    "x = Flatten()(x)\n",
    "x = Dense(10, activation='softmax')(x)\n",
    "\n",
    "model = Model(inputs, x)\n",
    "\n",
    "model.compile(optimizer='sgd', loss='categorical_crossentropy', metrics=['accuracy'])"
   ]
  },
  {
   "cell_type": "code",
   "execution_count": 170,
   "metadata": {},
   "outputs": [
    {
     "name": "stdout",
     "output_type": "stream",
     "text": [
      "Epoch 1/5\n",
      "60000/60000 [==============================] - 32s 527us/step - loss: 0.5149 - acc: 0.8460\n",
      "Epoch 2/5\n",
      "60000/60000 [==============================] - 34s 561us/step - loss: 0.2248 - acc: 0.9349\n",
      "Epoch 3/5\n",
      "60000/60000 [==============================] - 34s 571us/step - loss: 0.1555 - acc: 0.9559\n",
      "Epoch 4/5\n",
      "60000/60000 [==============================] - 34s 572us/step - loss: 0.1228 - acc: 0.9645\n",
      "Epoch 5/5\n",
      "60000/60000 [==============================] - 33s 558us/step - loss: 0.1047 - acc: 0.9698\n"
     ]
    },
    {
     "data": {
      "text/plain": [
       "<keras.callbacks.History at 0x13f639f98>"
      ]
     },
     "execution_count": 170,
     "metadata": {},
     "output_type": "execute_result"
    }
   ],
   "source": [
    "hist = model.fit(x_train, y_train, batch_size=32, epochs=5)"
   ]
  },
  {
   "cell_type": "markdown",
   "metadata": {},
   "source": [
    "How did the training go on this one?"
   ]
  },
  {
   "cell_type": "code",
   "execution_count": 179,
   "metadata": {},
   "outputs": [
    {
     "data": {
      "text/html": [
       "<div>\n",
       "<style>\n",
       "    .dataframe thead tr:only-child th {\n",
       "        text-align: right;\n",
       "    }\n",
       "\n",
       "    .dataframe thead th {\n",
       "        text-align: left;\n",
       "    }\n",
       "\n",
       "    .dataframe tbody tr th {\n",
       "        vertical-align: top;\n",
       "    }\n",
       "</style>\n",
       "<table border=\"1\" class=\"dataframe\">\n",
       "  <thead>\n",
       "    <tr style=\"text-align: right;\">\n",
       "      <th></th>\n",
       "      <th>acc</th>\n",
       "      <th>loss</th>\n",
       "    </tr>\n",
       "  </thead>\n",
       "  <tbody>\n",
       "    <tr>\n",
       "      <th>0</th>\n",
       "      <td>0.846000</td>\n",
       "      <td>0.514888</td>\n",
       "    </tr>\n",
       "    <tr>\n",
       "      <th>1</th>\n",
       "      <td>0.934867</td>\n",
       "      <td>0.224786</td>\n",
       "    </tr>\n",
       "    <tr>\n",
       "      <th>2</th>\n",
       "      <td>0.955933</td>\n",
       "      <td>0.155466</td>\n",
       "    </tr>\n",
       "    <tr>\n",
       "      <th>3</th>\n",
       "      <td>0.964550</td>\n",
       "      <td>0.122788</td>\n",
       "    </tr>\n",
       "    <tr>\n",
       "      <th>4</th>\n",
       "      <td>0.969850</td>\n",
       "      <td>0.104746</td>\n",
       "    </tr>\n",
       "  </tbody>\n",
       "</table>\n",
       "</div>"
      ],
      "text/plain": [
       "        acc      loss\n",
       "0  0.846000  0.514888\n",
       "1  0.934867  0.224786\n",
       "2  0.955933  0.155466\n",
       "3  0.964550  0.122788\n",
       "4  0.969850  0.104746"
      ]
     },
     "execution_count": 179,
     "metadata": {},
     "output_type": "execute_result"
    },
    {
     "data": {
      "image/png": "[encoded data removed]",
      "text/plain": [
       "<matplotlib.figure.Figure at 0x135d865c0>"
      ]
     },
     "metadata": {},
     "output_type": "display_data"
    }
   ],
   "source": [
    "import pandas as pd\n",
    "\n",
    "dfHist = pd.DataFrame(hist.history)\n",
    "dfHist.plot.line()\n",
    "dfHist"
   ]
  }
 ],
 "metadata": {
  "kernelspec": {
   "display_name": "Python 3",
   "language": "python",
   "name": "python3"
  },
  "language_info": {
   "codemirror_mode": {
    "name": "ipython",
    "version": 3
   },
   "file_extension": ".py",
   "mimetype": "text/x-python",
   "name": "python",
   "nbconvert_exporter": "python",
   "pygments_lexer": "ipython3",
   "version": "3.5.3"
  }
 },
 "nbformat": 4,
 "nbformat_minor": 2
}
